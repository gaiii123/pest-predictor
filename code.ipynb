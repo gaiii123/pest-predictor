{
 "cells": [
  {
   "cell_type": "code",
   "execution_count": 1,
   "id": "0c0a1e68-ed45-4b87-be27-318189ddf528",
   "metadata": {},
   "outputs": [],
   "source": [
    "import numpy as np # linear algebra\n",
    "import pandas as pd # data processing, CSV file I/O (e.g. pd.read_csv)\n",
    "import os\n",
    "import random\n",
    "import matplotlib.pyplot as plt\n",
    "import seaborn as sns\n",
    "\n",
    "import tensorflow as tf\n",
    "from tensorflow import keras\n",
    "from tensorflow.keras.models import Sequential\n",
    "from tensorflow.keras.layers import Conv2D, MaxPooling2D, Flatten, Dense\n",
    "from tensorflow.keras.preprocessing.image import load_img, img_to_array\n",
    "from tensorflow.keras.utils import to_categorical\n",
    "\n",
    "from sklearn.metrics import confusion_matrix"
   ]
  },
  {
   "cell_type": "code",
   "execution_count": 2,
   "id": "bd82028d-2c5a-4776-86f7-3322046b5b52",
   "metadata": {},
   "outputs": [
    {
     "name": "stdout",
     "output_type": "stream",
     "text": [
      "Requirement already satisfied: seaborn in c:\\users\\gayan\\appdata\\local\\programs\\python\\python312\\lib\\site-packages (0.13.2)\n",
      "Requirement already satisfied: numpy!=1.24.0,>=1.20 in c:\\users\\gayan\\appdata\\local\\programs\\python\\python312\\lib\\site-packages (from seaborn) (1.26.4)\n",
      "Requirement already satisfied: pandas>=1.2 in c:\\users\\gayan\\appdata\\local\\programs\\python\\python312\\lib\\site-packages (from seaborn) (2.2.2)\n",
      "Requirement already satisfied: matplotlib!=3.6.1,>=3.4 in c:\\users\\gayan\\appdata\\local\\programs\\python\\python312\\lib\\site-packages (from seaborn) (3.9.0)\n",
      "Requirement already satisfied: contourpy>=1.0.1 in c:\\users\\gayan\\appdata\\local\\programs\\python\\python312\\lib\\site-packages (from matplotlib!=3.6.1,>=3.4->seaborn) (1.2.1)\n",
      "Requirement already satisfied: cycler>=0.10 in c:\\users\\gayan\\appdata\\local\\programs\\python\\python312\\lib\\site-packages (from matplotlib!=3.6.1,>=3.4->seaborn) (0.12.1)\n",
      "Requirement already satisfied: fonttools>=4.22.0 in c:\\users\\gayan\\appdata\\local\\programs\\python\\python312\\lib\\site-packages (from matplotlib!=3.6.1,>=3.4->seaborn) (4.53.0)\n",
      "Requirement already satisfied: kiwisolver>=1.3.1 in c:\\users\\gayan\\appdata\\local\\programs\\python\\python312\\lib\\site-packages (from matplotlib!=3.6.1,>=3.4->seaborn) (1.4.5)\n",
      "Requirement already satisfied: packaging>=20.0 in c:\\users\\gayan\\appdata\\local\\programs\\python\\python312\\lib\\site-packages (from matplotlib!=3.6.1,>=3.4->seaborn) (24.1)\n",
      "Requirement already satisfied: pillow>=8 in c:\\users\\gayan\\appdata\\local\\programs\\python\\python312\\lib\\site-packages (from matplotlib!=3.6.1,>=3.4->seaborn) (10.3.0)\n",
      "Requirement already satisfied: pyparsing>=2.3.1 in c:\\users\\gayan\\appdata\\local\\programs\\python\\python312\\lib\\site-packages (from matplotlib!=3.6.1,>=3.4->seaborn) (3.1.2)\n",
      "Requirement already satisfied: python-dateutil>=2.7 in c:\\users\\gayan\\appdata\\local\\programs\\python\\python312\\lib\\site-packages (from matplotlib!=3.6.1,>=3.4->seaborn) (2.9.0.post0)\n",
      "Requirement already satisfied: pytz>=2020.1 in c:\\users\\gayan\\appdata\\local\\programs\\python\\python312\\lib\\site-packages (from pandas>=1.2->seaborn) (2024.1)\n",
      "Requirement already satisfied: tzdata>=2022.7 in c:\\users\\gayan\\appdata\\local\\programs\\python\\python312\\lib\\site-packages (from pandas>=1.2->seaborn) (2024.1)\n",
      "Requirement already satisfied: six>=1.5 in c:\\users\\gayan\\appdata\\local\\programs\\python\\python312\\lib\\site-packages (from python-dateutil>=2.7->matplotlib!=3.6.1,>=3.4->seaborn) (1.16.0)\n",
      "Note: you may need to restart the kernel to use updated packages.\n"
     ]
    }
   ],
   "source": [
    "pip install seaborn"
   ]
  },
  {
   "cell_type": "code",
   "execution_count": 3,
   "id": "e0a2f2b6-3c65-41d6-9e92-f73095bcd191",
   "metadata": {},
   "outputs": [
    {
     "name": "stdout",
     "output_type": "stream",
     "text": [
      "Requirement already satisfied: plotly in c:\\users\\gayan\\appdata\\local\\programs\\python\\python312\\lib\\site-packages (5.22.0)\n",
      "Requirement already satisfied: tenacity>=6.2.0 in c:\\users\\gayan\\appdata\\local\\programs\\python\\python312\\lib\\site-packages (from plotly) (8.4.2)\n",
      "Requirement already satisfied: packaging in c:\\users\\gayan\\appdata\\local\\programs\\python\\python312\\lib\\site-packages (from plotly) (24.1)\n"
     ]
    }
   ],
   "source": [
    "!pip install plotly\n",
    "import plotly.graph_objects as go\n",
    "def display_training_curves(training, validation, yaxis):\n",
    "    ylabel = \"{}\".format(yaxis)\n",
    "    title = \"{} vs. Epochs\".format(yaxis)\n",
    "        \n",
    "    fig = go.Figure()\n",
    "        \n",
    "    fig.add_trace(\n",
    "        go.Scatter(x=np.arange(1, epochs+1), mode='lines+markers', y=training, marker=dict(color=\"dodgerblue\"),\n",
    "               name=\"Train\"))\n",
    "    \n",
    "    fig.add_trace(\n",
    "        go.Scatter(x=np.arange(1, epochs+1), mode='lines+markers', y=validation, marker=dict(color=\"darkorange\"),\n",
    "               name=\"Val\"))\n",
    "    \n",
    "    fig.update_layout(title_text=title, yaxis_title=ylabel, xaxis_title=\"Epochs\", template=\"plotly_white\")\n",
    "    fig.show()"
   ]
  },
  {
   "cell_type": "code",
   "execution_count": 5,
   "id": "280177e5-99f7-4d7d-bced-b204c6f16bb1",
   "metadata": {},
   "outputs": [],
   "source": [
    "# Set the path \n",
    "main_folder = \"AugmentedSet\""
   ]
  },
  {
   "cell_type": "code",
   "execution_count": 6,
   "id": "f94fc745-ae1e-430e-b573-34ac06fe5524",
   "metadata": {},
   "outputs": [],
   "source": [
    "# Set the desired ratio for train and test\n",
    "train_ratio = 0.8  # 80% for training, 20% for testing\n",
    "\n",
    "# Create dictionaries to store train and test file paths\n",
    "train_files = {}\n",
    "test_files = {}\n",
    "\n",
    "random.seed(42)"
   ]
  },
  {
   "cell_type": "code",
   "execution_count": 7,
   "id": "75b42f51-005c-41e0-bc6c-0acd79235d6c",
   "metadata": {},
   "outputs": [],
   "source": [
    "# Iterate over the class folders\n",
    "for class_folder in os.listdir(main_folder):\n",
    "    class_path = os.path.join(main_folder, class_folder) \n",
    "    images = os.listdir(class_path) #A list containing images names for each class\n",
    "    \n",
    "    # Shuffle the images randomly\n",
    "    random.seed(42)    \n",
    "    random.shuffle(images)\n",
    "    \n",
    "    # Determine the split index based on the train ratio\n",
    "    split_index = int(len(images) * train_ratio)\n",
    "    \n",
    "    # Assign images to train and test dictionaries\n",
    "    train_files[class_folder] = images[:split_index] #Dictionary containing className: List of images\n",
    "    test_files[class_folder] = images[split_index:]"
   ]
  },
  {
   "cell_type": "code",
   "execution_count": 8,
   "id": "f6ff2540-8331-4b6d-8f06-5e8e8f547bab",
   "metadata": {},
   "outputs": [
    {
     "name": "stdout",
     "output_type": "stream",
     "text": [
      "4\n"
     ]
    }
   ],
   "source": [
    "# Define image dimensions and number of classes\n",
    "image_width, image_height = 224, 224\n",
    "num_classes = len(train_files)\n",
    "print(num_classes)"
   ]
  },
  {
   "cell_type": "code",
   "execution_count": 9,
   "id": "d7737611-bfce-4d5d-b3b6-b12c0369dfdd",
   "metadata": {},
   "outputs": [
    {
     "name": "stderr",
     "output_type": "stream",
     "text": [
      "C:\\Users\\Gayan\\AppData\\Local\\Programs\\Python\\Python312\\Lib\\site-packages\\PIL\\Image.py:1000: UserWarning: Palette images with Transparency expressed in bytes should be converted to RGBA images\n",
      "  warnings.warn(\n"
     ]
    }
   ],
   "source": [
    "# Create empty arrays to store the image data and labels\n",
    "train_data = []\n",
    "train_labels = []\n",
    "test_data = []\n",
    "test_labels = []\n",
    "\n",
    "# Load and preprocess train set images\n",
    "for class_folder, images in train_files.items():\n",
    "    for image in images:\n",
    "        image_path = os.path.join(main_folder, class_folder, image)\n",
    "        img = load_img(image_path, target_size=(image_width, image_height))\n",
    "        img_array = img_to_array(img)\n",
    "        train_data.append(img_array)\n",
    "        train_labels.append(class_folder)\n",
    "\n",
    "# Load and preprocess test set images\n",
    "for class_folder, images in test_files.items():\n",
    "    for image in images:\n",
    "        image_path = os.path.join(main_folder, class_folder, image)\n",
    "        img = load_img(image_path, target_size=(image_width, image_height))\n",
    "        img_array = img_to_array(img)\n",
    "        test_data.append(img_array)\n",
    "        test_labels.append(class_folder)\n",
    "\n",
    "# Convert the data and labels to NumPy arrays\n",
    "train_data = np.array(train_data)\n",
    "test_data = np.array(test_data)"
   ]
  },
  {
   "cell_type": "code",
   "execution_count": 10,
   "id": "33044f53-1b4d-4c7f-a35f-be141458169c",
   "metadata": {},
   "outputs": [],
   "source": [
    "# Create a dictionary to map class folder names to integer labels\n",
    "class_label_map = {class_folder: i for i, class_folder in enumerate(train_files.keys())}\n",
    "\n",
    "# Convert the train and test labels to integer labels\n",
    "train_labels = np.array([class_label_map[label] for label in train_labels]) \n",
    "test_labels = np.array([class_label_map[label] for label in test_labels])\n",
    "\n",
    "\n",
    "# Convert class labels to one-hot encoding\n",
    "train_labels = to_categorical(train_labels, num_classes)\n",
    "test_labels = to_categorical(test_labels, num_classes)"
   ]
  },
  {
   "cell_type": "code",
   "execution_count": 11,
   "id": "176da845-a64a-4f15-a27d-21fa33955a4a",
   "metadata": {},
   "outputs": [],
   "source": [
    "from tensorflow.keras.applications import ResNet50, MobileNetV3Large, MobileNetV3Small\n",
    "resnet = ResNet50(weights='imagenet', include_top=False, input_shape=(image_width, image_height, 3))\n",
    "\n",
    "# Freeze the pre-trained layers so they are not updated during training\n",
    "for layer in resnet.layers:\n",
    "    layer.trainable = False"
   ]
  },
  {
   "cell_type": "code",
   "execution_count": 12,
   "id": "4dad8f76-b187-4d67-bda0-a849306236c8",
   "metadata": {},
   "outputs": [
    {
     "name": "stdout",
     "output_type": "stream",
     "text": [
      "WARNING:tensorflow:From C:\\Users\\Gayan\\AppData\\Local\\Programs\\Python\\Python312\\Lib\\site-packages\\keras\\src\\backend\\common\\global_state.py:82: The name tf.reset_default_graph is deprecated. Please use tf.compat.v1.reset_default_graph instead.\n",
      "\n",
      "Epoch 1/3\n",
      "\u001b[1m69/69\u001b[0m \u001b[32m━━━━━━━━━━━━━━━━━━━━\u001b[0m\u001b[37m\u001b[0m \u001b[1m275s\u001b[0m 4s/step - accuracy: 0.8224 - loss: 1.9442 - val_accuracy: 0.9781 - val_loss: 0.2174\n",
      "Epoch 2/3\n",
      "\u001b[1m69/69\u001b[0m \u001b[32m━━━━━━━━━━━━━━━━━━━━\u001b[0m\u001b[37m\u001b[0m \u001b[1m235s\u001b[0m 3s/step - accuracy: 0.9917 - loss: 0.0681 - val_accuracy: 0.9927 - val_loss: 0.0137\n",
      "Epoch 3/3\n",
      "\u001b[1m69/69\u001b[0m \u001b[32m━━━━━━━━━━━━━━━━━━━━\u001b[0m\u001b[37m\u001b[0m \u001b[1m235s\u001b[0m 3s/step - accuracy: 0.9905 - loss: 0.0693 - val_accuracy: 0.9709 - val_loss: 0.4412\n"
     ]
    }
   ],
   "source": [
    "model = tf.keras.backend.clear_session()\n",
    "# Create a new model by adding the ResNet model on top of your existing layers\n",
    "model = Sequential()\n",
    "model.add(resnet)\n",
    "model.add(Flatten())\n",
    "model.add(Dense(32, activation='relu'))\n",
    "model.add(Dense(num_classes, activation='softmax'))\n",
    "\n",
    "# Compile the model\n",
    "model.compile(optimizer=keras.optimizers.Adam(learning_rate=0.001), loss='categorical_crossentropy', metrics=['accuracy'])\n",
    "\n",
    "# Train the model\n",
    "batch_size = 32\n",
    "epochs = 3\n",
    "\n",
    "history = model.fit(train_data, train_labels, batch_size=batch_size, epochs=epochs, validation_data=(test_data, test_labels))\n"
   ]
  },
  {
   "cell_type": "code",
   "execution_count": 13,
   "id": "24a79f48-98d5-4757-93be-60d51057b587",
   "metadata": {},
   "outputs": [
    {
     "name": "stdout",
     "output_type": "stream",
     "text": [
      "\u001b[1m18/18\u001b[0m \u001b[32m━━━━━━━━━━━━━━━━━━━━\u001b[0m\u001b[37m\u001b[0m \u001b[1m53s\u001b[0m 3s/step - accuracy: 0.9534 - loss: 1.0040\n",
      "Test Loss: 0.44124525785446167\n",
      "Test Accuracy: 0.9708561301231384\n"
     ]
    }
   ],
   "source": [
    "# Evaluate the model\n",
    "loss, accuracy = model.evaluate(test_data, test_labels)\n",
    "print(\"Test Loss:\", loss)\n",
    "print(\"Test Accuracy:\", accuracy)"
   ]
  },
  {
   "cell_type": "code",
   "execution_count": 14,
   "id": "fdfb0927-9539-491e-82c5-cf7116f6e865",
   "metadata": {},
   "outputs": [
    {
     "name": "stdout",
     "output_type": "stream",
     "text": [
      "\u001b[1m18/18\u001b[0m \u001b[32m━━━━━━━━━━━━━━━━━━━━\u001b[0m\u001b[37m\u001b[0m \u001b[1m56s\u001b[0m 3s/step\n"
     ]
    }
   ],
   "source": [
    "# Evaluate the model and get the predicted labels\n",
    "predictions = model.predict(test_data)\n",
    "predicted_labels = np.argmax(predictions, axis=1)\n",
    "\n",
    "# Get the true labels\n",
    "true_labels = np.argmax(test_labels, axis=1)\n",
    "\n",
    "# Compute the confusion matrix\n",
    "confusion = tf.math.confusion_matrix(labels=true_labels, predictions=predicted_labels)\n",
    "\n",
    "# Convert the confusion matrix to a NumPy array\n",
    "confusion = confusion.numpy()"
   ]
  },
  {
   "cell_type": "code",
   "execution_count": 15,
   "id": "669459c4-f652-4101-9e36-f5f9e71501f0",
   "metadata": {},
   "outputs": [
    {
     "data": {
      "image/png": "[encoded data removed]",
      "text/plain": [
       "<Figure size 400x400 with 2 Axes>"
      ]
     },
     "metadata": {},
     "output_type": "display_data"
    }
   ],
   "source": [
    "# Display the confusion matrix\n",
    "plt.figure(figsize=(num_classes, num_classes))\n",
    "ax = sns.heatmap(confusion, annot=True, fmt=\"d\", cmap=\"Blues\")\n",
    "# Modify the labels\n",
    "new_x_labels = ['cordana', 'healthy', 'non-banana', 'sigatoka']\n",
    "new_y_labels = ['cordana', 'healthy', 'non-banana', 'sigatoka']\n",
    "# Set the modified labels\n",
    "ax.set_xticklabels(new_x_labels, rotation=90)\n",
    "ax.set_yticklabels(new_y_labels, rotation=0)\n",
    "plt.xlabel('Predicted labels')\n",
    "plt.ylabel('True labels')\n",
    "plt.title('Confusion Matrix')\n",
    "plt.show()"
   ]
  },
  {
   "cell_type": "code",
   "execution_count": 16,
   "id": "77beee67-5219-497e-9c38-d5396bbe1b24",
   "metadata": {},
   "outputs": [
    {
     "name": "stderr",
     "output_type": "stream",
     "text": [
      "WARNING:absl:You are saving your model as an HDF5 file via `model.save()` or `keras.saving.save_model(model)`. This file format is considered legacy. We recommend using instead the native Keras format, e.g. `model.save('my_model.keras')` or `keras.saving.save_model(model, 'my_model.keras')`. \n"
     ]
    }
   ],
   "source": [
    "model.save('my_model1.h5')"
   ]
  },
  {
   "cell_type": "code",
   "execution_count": null,
   "id": "cf2fce43-acd1-457d-afe1-dd4e1c692b1a",
   "metadata": {},
   "outputs": [],
   "source": []
  }
 ],
 "metadata": {
  "kernelspec": {
   "display_name": "Python 3 (ipykernel)",
   "language": "python",
   "name": "python3"
  },
  "language_info": {
   "codemirror_mode": {
    "name": "ipython",
    "version": 3
   },
   "file_extension": ".py",
   "mimetype": "text/x-python",
   "name": "python",
   "nbconvert_exporter": "python",
   "pygments_lexer": "ipython3",
   "version": "3.12.3"
  }
 },
 "nbformat": 4,
 "nbformat_minor": 5
}
